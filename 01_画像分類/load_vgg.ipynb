{
 "cells": [
  {
   "cell_type": "markdown",
   "source": [
    "[![Open In Colab](https://colab.research.google.com/assets/colab-badge.svg)](https://colab.research.google.com/github/taka0928eye/pytorch/blob/master/01_画像分類/load_vgg.ipynb)"
   ],
   "metadata": {}
  },
  {
   "cell_type": "code",
   "execution_count": null,
   "source": [
    "!git clone https://github.com/taka0928eye/pytorch.git\n",
    "!cd pytorch"
   ],
   "outputs": [],
   "metadata": {}
  },
  {
   "cell_type": "code",
   "execution_count": 1,
   "source": [
    "import numpy as np\n",
    "import json\n",
    "from PIL import Image\n",
    "import matplotlib.pyplot as plt\n",
    "%matplotlib inline\n",
    "\n",
    "import torch\n",
    "import torchvision\n",
    "from torchvision import models, transforms"
   ],
   "outputs": [],
   "metadata": {}
  },
  {
   "cell_type": "code",
   "execution_count": null,
   "source": [
    "use_pretrained = True # 学習済みのパラメータを使用\n",
    "net = models.vgg16(pretrained=use_pretrained) # VGG-16モデルのインスタンスを生成\n",
    "net.eval() # 推論モードに設定\n",
    "\n",
    "print(net) # モデルのネットワーク構成を出力"
   ],
   "outputs": [],
   "metadata": {}
  },
  {
   "cell_type": "code",
   "execution_count": null,
   "source": [
    "# 入力画像の前処理クラス\n",
    "class BaseTransform():\n",
    "\n",
    "    def __init__(self, resize, mean, std):\n",
    "        self.base_transform = transforms.Compose([\n",
    "            transforms.Resize(resize), # 短い辺の長さがresizeになる\n",
    "            transforms.CenterCrop(resize), # 画像中央をresize x resizeで切り取り\n",
    "            transforms.ToTensor(), # Torchテンソルに変換\n",
    "            transforms.Normalize(mean, std) # 色情報の標準化\n",
    "        ])\n",
    "    \n",
    "    def __call__(self, img):\n",
    "        return self.base_transform(img)"
   ],
   "outputs": [],
   "metadata": {}
  },
  {
   "cell_type": "code",
   "execution_count": null,
   "source": [
    "# 画像読み込み\n",
    "img_path = \"pytorch/01_画像分類/data/sample.jpg\"\n",
    "img = Image.open(img_path)\n",
    "\n",
    "# 元画像の表示\n",
    "plt.imshow(img)\n",
    "plt.show()\n",
    "\n",
    "# 画像の前処理\n",
    "resize = 224\n",
    "mean = (0.485, 0.456, 0.406)\n",
    "std = (0.229, 0.224, 0.225)\n",
    "transform = BaseTransform(resize, mean, std)\n",
    "img_transformed = transform(img)\n",
    "img_transformed = img_transformed.numpy().transpose((1, 2, 0)) # （色、高さ、幅）を（高さ、幅、色）に変換\n",
    "img_transformed = np.clip(img_transformed, 0, 1) # 数値を0-1に収める\n",
    "\n",
    "# 処理済画像の表示\n",
    "plt.imshow(img_transformed)\n",
    "plt.show()"
   ],
   "outputs": [],
   "metadata": {}
  },
  {
   "cell_type": "code",
   "execution_count": null,
   "source": [
    "# 出力結果からラベルを予測する後処理クラス\n",
    "class ILSVRCPredictor():\n",
    "    \n",
    "    def __init__(self, class_index):\n",
    "        self.class_index = class_index\n",
    "    \n",
    "    # 確率が最も高いものを返す\n",
    "    def predict_max(self, out):\n",
    "        max_id = np.argmax(out.detach().numpy())\n",
    "        predict_label_name = self.class_index[str(max_id)][1]\n",
    "        return predict_label_name"
   ],
   "outputs": [],
   "metadata": {}
  },
  {
   "cell_type": "code",
   "execution_count": null,
   "source": [
    "ILSVRC_class_index = json.load(open(\"pytorch/01_画像分類/data/imagenet_class_index.json\"))\n",
    "predictor = ILSVRCPredictor(ILSVRC_class_index)\n",
    "\n",
    "img = Image.open(img_path)\n",
    "\n",
    "transform = BaseTransform(resize, mean, std)\n",
    "img_transformed = transform(img)\n",
    "inputs = img_transformed.unsqueeze_(0) # バッチサイズの次元を追加\n",
    "\n",
    "out = net(inputs)\n",
    "result = predictor.predict_max(out)\n",
    "\n",
    "print(\"入力画像の予測結果: \", result)\n",
    "\n"
   ],
   "outputs": [],
   "metadata": {}
  }
 ],
 "metadata": {
  "orig_nbformat": 4,
  "language_info": {
   "name": "python",
   "version": "3.9.2",
   "mimetype": "text/x-python",
   "codemirror_mode": {
    "name": "ipython",
    "version": 3
   },
   "pygments_lexer": "ipython3",
   "nbconvert_exporter": "python",
   "file_extension": ".py"
  },
  "kernelspec": {
   "name": "python3",
   "display_name": "Python 3.9.2 64-bit ('3.9.2': pyenv)"
  },
  "interpreter": {
   "hash": "00357202eb612aa154c713277abdbd9efa4e3f516e83f120dc3d70a2f65920a6"
  }
 },
 "nbformat": 4,
 "nbformat_minor": 2
}